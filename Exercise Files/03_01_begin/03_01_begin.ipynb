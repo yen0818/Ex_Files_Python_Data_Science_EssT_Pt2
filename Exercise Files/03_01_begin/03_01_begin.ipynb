{
 "cells": [
  {
   "cell_type": "markdown",
   "metadata": {},
   "source": [
    "# Chapter 3 - Regression Models\n",
    "## Segment 1 - Simple linear regression"
   ]
  },
  {
   "cell_type": "code",
   "execution_count": 2,
   "metadata": {},
   "outputs": [],
   "source": [
    "import numpy as np\n",
    "import pandas as pd\n",
    "import matplotlib.pyplot as plt\n",
    "import sklearn\n",
    "\n",
    "from pylab import rcParams\n",
    "\n",
    "from sklearn.linear_model import LinearRegression\n",
    "from sklearn.preprocessing import scale"
   ]
  },
  {
   "cell_type": "code",
   "execution_count": 3,
   "metadata": {},
   "outputs": [],
   "source": [
    "%matplotlib inline\n",
    "rcParams['figure.figsize'] = 10,8"
   ]
  },
  {
   "cell_type": "code",
   "execution_count": 4,
   "metadata": {},
   "outputs": [
    {
     "data": {
      "text/plain": [
       "array([[3.62636401],\n",
       "       [4.28552191],\n",
       "       [3.52910386],\n",
       "       [3.68827272],\n",
       "       [4.73835044],\n",
       "       [4.31274844],\n",
       "       [3.37663216],\n",
       "       [3.32513067],\n",
       "       [3.46634646]])"
      ]
     },
     "execution_count": 4,
     "metadata": {},
     "output_type": "execute_result"
    }
   ],
   "source": [
    "rooms = 2*np.random.rand(100,1)+3\n",
    "rooms[1:10]"
   ]
  },
  {
   "cell_type": "code",
   "execution_count": 5,
   "metadata": {},
   "outputs": [
    {
     "data": {
      "text/plain": [
       "array([[287.73587552],\n",
       "       [291.39758896],\n",
       "       [287.03718136],\n",
       "       [288.8409138 ],\n",
       "       [293.95869759],\n",
       "       [291.63898422],\n",
       "       [285.66398293],\n",
       "       [285.1095338 ],\n",
       "       [286.54706347]])"
      ]
     },
     "execution_count": 5,
     "metadata": {},
     "output_type": "execute_result"
    }
   ],
   "source": [
    "price = 265 + 6*rooms +abs(np.random.randn(100,1))\n",
    "price[1:10]"
   ]
  },
  {
   "cell_type": "code",
   "execution_count": 6,
   "metadata": {},
   "outputs": [
    {
     "data": {
      "text/plain": [
       "Text(0, 0.5, '2019 Average Home, 1000s USD')"
      ]
     },
     "execution_count": 6,
     "metadata": {},
     "output_type": "execute_result"
    },
    {
     "data": {
      "image/png": "[encoded data removed]",
      "text/plain": [
       "<Figure size 720x576 with 1 Axes>"
      ]
     },
     "metadata": {
      "needs_background": "light"
     },
     "output_type": "display_data"
    }
   ],
   "source": [
    "plt.plot(rooms, price, 'r^')\n",
    "plt.xlabel(\"# of Rooms, 2019 Average\")\n",
    "plt.ylabel(\"2019 Average Home, 1000s USD\")"
   ]
  },
  {
   "cell_type": "code",
   "execution_count": 7,
   "metadata": {},
   "outputs": [
    {
     "name": "stdout",
     "output_type": "stream",
     "text": [
      "[265.86511065] [[5.9687895]]\n"
     ]
    }
   ],
   "source": [
    "X = rooms\n",
    "y = price\n",
    "\n",
    "LinReg = LinearRegression()\n",
    "LinReg.fit(X,y)\n",
    "print(LinReg.intercept_, LinReg.coef_)"
   ]
  },
  {
   "cell_type": "markdown",
   "metadata": {},
   "source": [
    "*Simple Algebra*\n",
    "- y = mx + b\n",
    "- b = intercept = 265.7\n",
    "\n",
    "*Estimated Coefficients*\n",
    "- LinReg.coef_ = [5.99] Estimated coefficients for the terms in the linear regression problem."
   ]
  },
  {
   "cell_type": "code",
   "execution_count": 9,
   "metadata": {},
   "outputs": [
    {
     "name": "stdout",
     "output_type": "stream",
     "text": [
      "0.9677236480022231\n"
     ]
    }
   ],
   "source": [
    "print(LinReg.score(X,y))"
   ]
  },
  {
   "cell_type": "code",
   "execution_count": null,
   "metadata": {},
   "outputs": [],
   "source": []
  }
 ],
 "metadata": {
  "kernelspec": {
   "display_name": "Python 3",
   "language": "python",
   "name": "python3"
  },
  "language_info": {
   "codemirror_mode": {
    "name": "ipython",
    "version": 3
   },
   "file_extension": ".py",
   "mimetype": "text/x-python",
   "name": "python",
   "nbconvert_exporter": "python",
   "pygments_lexer": "ipython3",
   "version": "3.8.8"
  },
  "nav_menu": {
   "height": "279px",
   "width": "309px"
  },
  "toc": {
   "navigate_menu": true,
   "number_sections": true,
   "sideBar": true,
   "threshold": 6,
   "toc_cell": false,
   "toc_section_display": "block",
   "toc_window_display": false
  }
 },
 "nbformat": 4,
 "nbformat_minor": 4
}
